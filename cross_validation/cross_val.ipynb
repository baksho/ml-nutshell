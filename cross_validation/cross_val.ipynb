{
 "cells": [
  {
   "cell_type": "code",
   "execution_count": 4,
   "id": "f5b44dca-3fcb-4391-9321-d22517042dcf",
   "metadata": {},
   "outputs": [
    {
     "name": "stdout",
     "output_type": "stream",
     "text": [
      "K-fold CV mean accuracy: 0.7446 ± 0.0535\n",
      "Stratified K-fold CV mean accuracy: 0.7397 ± 0.0322\n",
      "Monte Carlo CV mean accuracy: 0.7424 ± 0.0402\n"
     ]
    }
   ],
   "source": [
    "import numpy as np\n",
    "import pandas as pd\n",
    "from sklearn.datasets import load_diabetes\n",
    "from sklearn.model_selection import KFold, StratifiedKFold, ShuffleSplit, cross_val_score\n",
    "from sklearn.linear_model import LogisticRegression\n",
    "from sklearn.preprocessing import StandardScaler\n",
    "from sklearn.pipeline import make_pipeline\n",
    "\n",
    "# Load the diabetes dataset\n",
    "data = load_diabetes()\n",
    "X, y = data.data, data.target\n",
    "\n",
    "# Convert the regression target to a binary classification problem\n",
    "y = (y > np.median(y)).astype(int)\n",
    "\n",
    "# Standardize the features and create a logistic regression pipeline\n",
    "model = make_pipeline(StandardScaler(), LogisticRegression())\n",
    "\n",
    "# Define the number of splits or folds\n",
    "k = 5\n",
    "n_splits_mc = 150\n",
    "\n",
    "# K-fold Cross-validation\n",
    "kf = KFold(n_splits=k, shuffle=True, random_state=1)\n",
    "kf_scores = cross_val_score(model, X, y, cv=kf)\n",
    "\n",
    "# Stratified K-fold Cross-validation\n",
    "skf = StratifiedKFold(n_splits=k, shuffle=True, random_state=1)\n",
    "skf_scores = cross_val_score(model, X, y, cv=skf)\n",
    "\n",
    "# Monte Carlo Cross-validation\n",
    "mc = ShuffleSplit(n_splits=n_splits_mc, test_size=0.2, random_state=1)\n",
    "mc_scores = cross_val_score(model, X, y, cv=mc)\n",
    "\n",
    "# Print the results\n",
    "print(f\"K-fold CV mean accuracy: {kf_scores.mean():.4f} ± {kf_scores.std():.4f}\")\n",
    "print(f\"Stratified K-fold CV mean accuracy: {skf_scores.mean():.4f} ± {skf_scores.std():.4f}\")\n",
    "print(f\"Monte Carlo CV mean accuracy: {mc_scores.mean():.4f} ± {mc_scores.std():.4f}\")"
   ]
  },
  {
   "cell_type": "code",
   "execution_count": null,
   "id": "e7d2a375-03bb-4f37-89be-cf1c5cc945c3",
   "metadata": {},
   "outputs": [],
   "source": []
  }
 ],
 "metadata": {
  "kernelspec": {
   "display_name": "Python 3 (ipykernel)",
   "language": "python",
   "name": "python3"
  },
  "language_info": {
   "codemirror_mode": {
    "name": "ipython",
    "version": 3
   },
   "file_extension": ".py",
   "mimetype": "text/x-python",
   "name": "python",
   "nbconvert_exporter": "python",
   "pygments_lexer": "ipython3",
   "version": "3.12.2"
  }
 },
 "nbformat": 4,
 "nbformat_minor": 5
}
